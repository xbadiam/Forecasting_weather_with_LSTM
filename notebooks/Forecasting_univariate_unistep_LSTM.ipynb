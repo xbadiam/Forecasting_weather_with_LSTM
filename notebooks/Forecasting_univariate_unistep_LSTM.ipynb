{
  "nbformat": 4,
  "nbformat_minor": 0,
  "metadata": {
    "colab": {
      "provenance": [],
      "gpuType": "T4",
      "authorship_tag": "ABX9TyNmY9H2XxxF1KfwOau1oTEy",
      "include_colab_link": true
    },
    "kernelspec": {
      "name": "python3",
      "display_name": "Python 3"
    },
    "language_info": {
      "name": "python"
    },
    "accelerator": "GPU"
  },
  "cells": [
    {
      "cell_type": "markdown",
      "metadata": {
        "id": "view-in-github",
        "colab_type": "text"
      },
      "source": [
        "<a href=\"https://colab.research.google.com/github/xbadiam/Forecasting_weather_with_LSTM/blob/main/notebooks/Forecasting_univariate_unistep_LSTM.ipynb\" target=\"_parent\"><img src=\"https://colab.research.google.com/assets/colab-badge.svg\" alt=\"Open In Colab\"/></a>"
      ]
    },
    {
      "cell_type": "markdown",
      "source": [
        "## 1. Contexto\n",
        "\n",
        "### 1.1 Modelos univariados-unistep\n",
        "\n",
        "El modelo univariado-unistep es el tipo de predicción más simple que podemos realizar usando Redes LSTM.\n",
        "\n",
        "En este tipo de configuración usamos una variable a la entrada del modelo y tendremos una variable de salida y la predicción se realiza tan sólo un instante de tiempo a futuro dentro de la serie. Además, generalmente la variable de entrada es la misma variable a predecir.\n",
        "\n",
        "Por ejemplo, si volvemos al caso de la temperatura, podríamos desarrollar un modelo que acepte un registro histórico de 24 horas de la temperatura y que aprenda a predecir el comportamiento que tendrá esa misma variable temperatura en la siguiente hora."
      ],
      "metadata": {
        "id": "P-V-ffJl8hu6"
      }
    },
    {
      "cell_type": "code",
      "execution_count": 30,
      "metadata": {
        "colab": {
          "base_uri": "https://localhost:8080/"
        },
        "id": "HPElei1aqT6q",
        "outputId": "1af454d5-a012-421d-e5d7-6f5689d2648b"
      },
      "outputs": [
        {
          "output_type": "stream",
          "name": "stdout",
          "text": [
            "Cloning into 'Forecasting_weather_with_LSTM'...\n",
            "remote: Enumerating objects: 74, done.\u001b[K\n",
            "remote: Counting objects: 100% (74/74), done.\u001b[K\n",
            "remote: Compressing objects: 100% (70/70), done.\u001b[K\n",
            "remote: Total 74 (delta 23), reused 0 (delta 0), pack-reused 0 (from 0)\u001b[K\n",
            "Receiving objects: 100% (74/74), 2.83 MiB | 4.09 MiB/s, done.\n",
            "Resolving deltas: 100% (23/23), done.\n"
          ]
        }
      ],
      "source": [
        "!rm -rf /content/Forecasting_weather_with_LSTM\n",
        "\n",
        "! git clone https://github.com/xbadiam/Forecasting_weather_with_LSTM.git"
      ]
    },
    {
      "cell_type": "code",
      "source": [
        "import pandas as pd\n",
        "import numpy as np\n",
        "import matplotlib.pyplot as plt\n",
        "from sklearn.preprocessing import MinMaxScaler\n",
        "\n",
        "# Modelado y Forecasting\n",
        "# ==============================================================================\n",
        "import tensorflow as tf\n",
        "import keras\n",
        "from keras import layers\n",
        "from keras import ops\n",
        "#from tensorflow.keras.models import Sequential\n",
        "#from tensorflow.keras.layers import LSTM, Dense\n",
        "#from tensorflow.keras.optimizers import RMSprop"
      ],
      "metadata": {
        "id": "XRImY24JrGLc"
      },
      "execution_count": 31,
      "outputs": []
    },
    {
      "cell_type": "code",
      "source": [
        "print(\"TensorFlow version:\", tf.__version__)"
      ],
      "metadata": {
        "colab": {
          "base_uri": "https://localhost:8080/"
        },
        "id": "OZpR1p-b37zY",
        "outputId": "e98fc5aa-7769-4105-fee7-4bac2115ca13"
      },
      "execution_count": 32,
      "outputs": [
        {
          "output_type": "stream",
          "name": "stdout",
          "text": [
            "TensorFlow version: 2.19.0\n"
          ]
        }
      ]
    },
    {
      "cell_type": "markdown",
      "source": [
        "## 2. Funciones especiales"
      ],
      "metadata": {
        "id": "iOhoIeSXt_If"
      }
    },
    {
      "cell_type": "code",
      "source": [
        "# Función para generar las particiones preservando las características\n",
        "# de la serie de tiempo\n",
        "\n",
        "def train_val_test_split(serie, tr_size=0.8, vl_size=0.1, ts_size=0.1 ):\n",
        "    # Definir número de datos en cada subserie\n",
        "    data_number = serie.shape[0]\n",
        "    n_train = int(tr_size* data_number)  # Número de datos de entrenamiento\n",
        "    n_val = int(vl_size* data_number)    # Número de datos de validación\n",
        "    n_test = data_number - n_train - n_val # Número de datos de prueba\n",
        "\n",
        "    # Realizar partición\n",
        "    train = serie[0:n_train]\n",
        "    val = serie[n_train:n_train + n_val]\n",
        "    test = serie[n_train + n_val:]\n",
        "\n",
        "    return train, val, test\n",
        "\n",
        "\n",
        "def create_dataset_supervised(array, input_length, output_length):\n",
        "  '''Permite crear un dataset con las entradas (X) y salidas (Y)\n",
        "  requeridas por la Red LSTM.\n",
        "\n",
        "  Parámetros:\n",
        "    - array: numpy de tamaño N x features (N: cantidad de datos,\n",
        "      f: cantidad de features).\n",
        "    - input_length: instantes de tiempo consecutivos de la(s) serie(s) de tiempo\n",
        "      usados para alimentar el modelo.\n",
        "    - output_length: instantes de tiempo a pronosticar (salida del modelo)\n",
        "  '''\n",
        "\n",
        "  # Inicialización\n",
        "  X, Y = [], []    # Listados con los datos de entrada y salida del modelo\n",
        "  shape = array.shape\n",
        "  if len(shape) ==1: # Si tenemos sólo una serie (univariado)\n",
        "    fils, cols = array.shape[0], 1\n",
        "    array = array.reshape(fils, cols)\n",
        "  else: # Multivariado\n",
        "     fils, cols = array.shape\n",
        "\n",
        "  # Generar los arreglos\n",
        "  for i in range(fils - input_length - output_length):\n",
        "    X.append(array[i:i + input_length, 0:cols])\n",
        "    Y.append(array[i + input_length:i + input_length + output_length, -1].reshape(output_length, 1))\n",
        "\n",
        "  # Convertir listas a arreglos de NumPy\n",
        "  X = np.array(X)\n",
        "  Y = np.array(Y)\n",
        "\n",
        "  return X, Y\n",
        "\n",
        "\n",
        "def escalar_dataset(data_input):\n",
        "  '''Escala el dataset en el rango de -1 a 1.\n",
        "  Entradas:\n",
        "    data_input: diccionario con los dataset de entrada y salida del modelo\n",
        "    (data_input = {'x_train':x_train, 'y_train':y_train,\n",
        "                   'x_val':x_val, 'y_val':y_val,\n",
        "                    'y_test':y_test})\n",
        "\n",
        "  Retorna:\n",
        "    - data_scaled: diccionario con los datasets de entrada y salida escalados\n",
        "      (tiene la misma estructura del diccionario de entrada)\n",
        "    - scaler: el escalador usado (requerido para las predicciones)\n",
        "    '''\n",
        "\n",
        "  NFEATS = data_input['x_train'].shape[2]\n",
        "\n",
        "  # Generar listado con \"scalers\" (en este caso, por ser sólo 1 característica\n",
        "  # se tendrá sólo 1 escalador)\n",
        "  scalers = [MinMaxScaler(feature_range=(-1,1)) for i in range(NFEATS)]\n",
        "\n",
        "  # Arreglos que contendrán los datasets escalados\n",
        "  x_train_scaled = np.zeros(data_input['x_train'].shape)\n",
        "  x_val_scaled = np.zeros(data_input['x_val'].shape)\n",
        "  x_test_scaled = np.zeros(data_input['x_test'].shape)\n",
        "  y_train_scaled = np.zeros(data_input['y_train'].shape)\n",
        "  y_val_scaled = np.zeros(data_input['y_val'].shape)\n",
        "  y_test_scaled = np.zeros(data_input['y_test'].shape)\n",
        "\n",
        "  # Escalamiento: se usarán los min/max del set de entrenamiento para\n",
        "  # escalar la totalidad de los datasets\n",
        "\n",
        "  # Escalamiento Xs: en este caso debemos garantizar que cada dato de entrada\n",
        "  # a fit_transform o transform debe ser de tamaño nsamples x nfeatures\n",
        "  # (en este caso 24x13)\n",
        "  for i in range(NFEATS):\n",
        "    x_train_scaled[:,:,i] = scalers[i].fit_transform(x_train[:,:,i])\n",
        "    x_val_scaled[:,:,i] = scalers[i].transform(x_val[:,:,i])\n",
        "    x_test_scaled[:,:,i] = scalers[i].transform(x_test[:,:,i])\n",
        "\n",
        "  # Escalamiento Ys\n",
        "  y_train_scaled[:,:,0] = scalers[-1].fit_transform(y_train[:, :,0])\n",
        "  y_val_scaled[:,:,0] = scalers[-1].transform(y_val[:, :,0])\n",
        "  y_test_scaled[:,:,0] = scalers[-1].transform(y_test[:, :,0])\n",
        "\n",
        "  # Conformar diccionario de salida\n",
        "  data_scaled = {\n",
        "      'x_train_scaled': x_train_scaled, 'y_train_scaled': y_train_scaled,\n",
        "      'x_val_scaled': x_val_scaled, 'y_val_scaled': y_val_scaled,\n",
        "      'x_test_scaled': x_test_scaled, 'y_test_scaled': y_test_scaled,\n",
        "  }\n",
        "\n",
        "  return data_scaled, scalers[0]\n",
        "\n",
        "\n",
        "def prediction(x, model, scaler):\n",
        "  '''Genera la predicción de OUTPUT_LENGTH instantes\n",
        "  de tiempo a futuro con el modelo entrenado.\n",
        "\n",
        "  Entrada:\n",
        "   - x: batch (o batches) de datos para ingresar al modelo\n",
        "   (tamaño: BATCHES X INPUT_LENGTH X FEATURES)\n",
        "   - model: Red LSTM entrenada (modelo entrenado)\n",
        "   - scaler: escalador (requerido para llevar la predicción a la escala original)\n",
        "\n",
        "   Salida:\n",
        "   - y_pred: la predicción en la escala original (tamaño: BATCHES X OUTPUT_LENGTH X FEATURES)\n",
        "  '''\n",
        "  # Calcular predicción escalada en el rango de -1 a 1\n",
        "  y_pred_s = model.predict(x, verbose=0)\n",
        "\n",
        "  # Llevar la predicción a la escala original\n",
        "  y_pred = scaler.inverse_transform(y_pred_s)\n",
        "\n",
        "  return y_pred.flatten() # crea un array plano"
      ],
      "metadata": {
        "id": "ebmBdO8huD6h"
      },
      "execution_count": 33,
      "outputs": []
    },
    {
      "cell_type": "markdown",
      "source": [
        "## 3. Cargar datos"
      ],
      "metadata": {
        "id": "Je90tA1KtsiJ"
      }
    },
    {
      "cell_type": "code",
      "source": [
        "data = pd.read_csv('/content/Forecasting_weather_with_LSTM/outputs/weather_dataset_preprocesado.csv')\n",
        "data.head(5)"
      ],
      "metadata": {
        "colab": {
          "base_uri": "https://localhost:8080/",
          "height": 310
        },
        "id": "vnQ7A2j2rXo5",
        "outputId": "80749200-2236-4bfe-c915-fa6f1fb13577"
      },
      "execution_count": 34,
      "outputs": [
        {
          "output_type": "execute_result",
          "data": {
            "text/plain": [
              "                  date  p (mbar)  T (degC)  Tpot (K)  Tdew (degC)  rh (%)  \\\n",
              "0  2009-01-01 01:00:00    996.50     -8.05    265.38        -8.78    94.4   \n",
              "1  2009-01-01 02:00:00    996.62     -8.88    264.54        -9.77    93.2   \n",
              "2  2009-01-01 03:00:00    996.84     -8.81    264.59        -9.66    93.5   \n",
              "3  2009-01-01 04:00:00    996.99     -9.05    264.34       -10.02    92.6   \n",
              "4  2009-01-01 05:00:00    997.46     -9.63    263.72       -10.65    92.2   \n",
              "\n",
              "   VPmax (mbar)  VPact (mbar)  VPdef (mbar)  sh (g/kg)  H2OC (mmol/mol)  \\\n",
              "0          3.33          3.14          0.19       1.96             3.15   \n",
              "1          3.12          2.90          0.21       1.81             2.91   \n",
              "2          3.13          2.93          0.20       1.83             2.94   \n",
              "3          3.07          2.85          0.23       1.78             2.85   \n",
              "4          2.94          2.71          0.23       1.69             2.71   \n",
              "\n",
              "   rho (g/m**3)  wv (m/s)  max. wv (m/s)  wd (deg)  \n",
              "0       1307.86      0.21           0.63     192.7  \n",
              "1       1312.25      0.25           0.63     190.3  \n",
              "2       1312.18      0.18           0.63     167.2  \n",
              "3       1313.61      0.10           0.38     240.0  \n",
              "4       1317.19      0.40           0.88     157.0  "
            ],
            "text/html": [
              "\n",
              "  <div id=\"df-80c4a886-43de-45b3-a6b0-dcfc196ad510\" class=\"colab-df-container\">\n",
              "    <div>\n",
              "<style scoped>\n",
              "    .dataframe tbody tr th:only-of-type {\n",
              "        vertical-align: middle;\n",
              "    }\n",
              "\n",
              "    .dataframe tbody tr th {\n",
              "        vertical-align: top;\n",
              "    }\n",
              "\n",
              "    .dataframe thead th {\n",
              "        text-align: right;\n",
              "    }\n",
              "</style>\n",
              "<table border=\"1\" class=\"dataframe\">\n",
              "  <thead>\n",
              "    <tr style=\"text-align: right;\">\n",
              "      <th></th>\n",
              "      <th>date</th>\n",
              "      <th>p (mbar)</th>\n",
              "      <th>T (degC)</th>\n",
              "      <th>Tpot (K)</th>\n",
              "      <th>Tdew (degC)</th>\n",
              "      <th>rh (%)</th>\n",
              "      <th>VPmax (mbar)</th>\n",
              "      <th>VPact (mbar)</th>\n",
              "      <th>VPdef (mbar)</th>\n",
              "      <th>sh (g/kg)</th>\n",
              "      <th>H2OC (mmol/mol)</th>\n",
              "      <th>rho (g/m**3)</th>\n",
              "      <th>wv (m/s)</th>\n",
              "      <th>max. wv (m/s)</th>\n",
              "      <th>wd (deg)</th>\n",
              "    </tr>\n",
              "  </thead>\n",
              "  <tbody>\n",
              "    <tr>\n",
              "      <th>0</th>\n",
              "      <td>2009-01-01 01:00:00</td>\n",
              "      <td>996.50</td>\n",
              "      <td>-8.05</td>\n",
              "      <td>265.38</td>\n",
              "      <td>-8.78</td>\n",
              "      <td>94.4</td>\n",
              "      <td>3.33</td>\n",
              "      <td>3.14</td>\n",
              "      <td>0.19</td>\n",
              "      <td>1.96</td>\n",
              "      <td>3.15</td>\n",
              "      <td>1307.86</td>\n",
              "      <td>0.21</td>\n",
              "      <td>0.63</td>\n",
              "      <td>192.7</td>\n",
              "    </tr>\n",
              "    <tr>\n",
              "      <th>1</th>\n",
              "      <td>2009-01-01 02:00:00</td>\n",
              "      <td>996.62</td>\n",
              "      <td>-8.88</td>\n",
              "      <td>264.54</td>\n",
              "      <td>-9.77</td>\n",
              "      <td>93.2</td>\n",
              "      <td>3.12</td>\n",
              "      <td>2.90</td>\n",
              "      <td>0.21</td>\n",
              "      <td>1.81</td>\n",
              "      <td>2.91</td>\n",
              "      <td>1312.25</td>\n",
              "      <td>0.25</td>\n",
              "      <td>0.63</td>\n",
              "      <td>190.3</td>\n",
              "    </tr>\n",
              "    <tr>\n",
              "      <th>2</th>\n",
              "      <td>2009-01-01 03:00:00</td>\n",
              "      <td>996.84</td>\n",
              "      <td>-8.81</td>\n",
              "      <td>264.59</td>\n",
              "      <td>-9.66</td>\n",
              "      <td>93.5</td>\n",
              "      <td>3.13</td>\n",
              "      <td>2.93</td>\n",
              "      <td>0.20</td>\n",
              "      <td>1.83</td>\n",
              "      <td>2.94</td>\n",
              "      <td>1312.18</td>\n",
              "      <td>0.18</td>\n",
              "      <td>0.63</td>\n",
              "      <td>167.2</td>\n",
              "    </tr>\n",
              "    <tr>\n",
              "      <th>3</th>\n",
              "      <td>2009-01-01 04:00:00</td>\n",
              "      <td>996.99</td>\n",
              "      <td>-9.05</td>\n",
              "      <td>264.34</td>\n",
              "      <td>-10.02</td>\n",
              "      <td>92.6</td>\n",
              "      <td>3.07</td>\n",
              "      <td>2.85</td>\n",
              "      <td>0.23</td>\n",
              "      <td>1.78</td>\n",
              "      <td>2.85</td>\n",
              "      <td>1313.61</td>\n",
              "      <td>0.10</td>\n",
              "      <td>0.38</td>\n",
              "      <td>240.0</td>\n",
              "    </tr>\n",
              "    <tr>\n",
              "      <th>4</th>\n",
              "      <td>2009-01-01 05:00:00</td>\n",
              "      <td>997.46</td>\n",
              "      <td>-9.63</td>\n",
              "      <td>263.72</td>\n",
              "      <td>-10.65</td>\n",
              "      <td>92.2</td>\n",
              "      <td>2.94</td>\n",
              "      <td>2.71</td>\n",
              "      <td>0.23</td>\n",
              "      <td>1.69</td>\n",
              "      <td>2.71</td>\n",
              "      <td>1317.19</td>\n",
              "      <td>0.40</td>\n",
              "      <td>0.88</td>\n",
              "      <td>157.0</td>\n",
              "    </tr>\n",
              "  </tbody>\n",
              "</table>\n",
              "</div>\n",
              "    <div class=\"colab-df-buttons\">\n",
              "\n",
              "  <div class=\"colab-df-container\">\n",
              "    <button class=\"colab-df-convert\" onclick=\"convertToInteractive('df-80c4a886-43de-45b3-a6b0-dcfc196ad510')\"\n",
              "            title=\"Convert this dataframe to an interactive table.\"\n",
              "            style=\"display:none;\">\n",
              "\n",
              "  <svg xmlns=\"http://www.w3.org/2000/svg\" height=\"24px\" viewBox=\"0 -960 960 960\">\n",
              "    <path d=\"M120-120v-720h720v720H120Zm60-500h600v-160H180v160Zm220 220h160v-160H400v160Zm0 220h160v-160H400v160ZM180-400h160v-160H180v160Zm440 0h160v-160H620v160ZM180-180h160v-160H180v160Zm440 0h160v-160H620v160Z\"/>\n",
              "  </svg>\n",
              "    </button>\n",
              "\n",
              "  <style>\n",
              "    .colab-df-container {\n",
              "      display:flex;\n",
              "      gap: 12px;\n",
              "    }\n",
              "\n",
              "    .colab-df-convert {\n",
              "      background-color: #E8F0FE;\n",
              "      border: none;\n",
              "      border-radius: 50%;\n",
              "      cursor: pointer;\n",
              "      display: none;\n",
              "      fill: #1967D2;\n",
              "      height: 32px;\n",
              "      padding: 0 0 0 0;\n",
              "      width: 32px;\n",
              "    }\n",
              "\n",
              "    .colab-df-convert:hover {\n",
              "      background-color: #E2EBFA;\n",
              "      box-shadow: 0px 1px 2px rgba(60, 64, 67, 0.3), 0px 1px 3px 1px rgba(60, 64, 67, 0.15);\n",
              "      fill: #174EA6;\n",
              "    }\n",
              "\n",
              "    .colab-df-buttons div {\n",
              "      margin-bottom: 4px;\n",
              "    }\n",
              "\n",
              "    [theme=dark] .colab-df-convert {\n",
              "      background-color: #3B4455;\n",
              "      fill: #D2E3FC;\n",
              "    }\n",
              "\n",
              "    [theme=dark] .colab-df-convert:hover {\n",
              "      background-color: #434B5C;\n",
              "      box-shadow: 0px 1px 3px 1px rgba(0, 0, 0, 0.15);\n",
              "      filter: drop-shadow(0px 1px 2px rgba(0, 0, 0, 0.3));\n",
              "      fill: #FFFFFF;\n",
              "    }\n",
              "  </style>\n",
              "\n",
              "    <script>\n",
              "      const buttonEl =\n",
              "        document.querySelector('#df-80c4a886-43de-45b3-a6b0-dcfc196ad510 button.colab-df-convert');\n",
              "      buttonEl.style.display =\n",
              "        google.colab.kernel.accessAllowed ? 'block' : 'none';\n",
              "\n",
              "      async function convertToInteractive(key) {\n",
              "        const element = document.querySelector('#df-80c4a886-43de-45b3-a6b0-dcfc196ad510');\n",
              "        const dataTable =\n",
              "          await google.colab.kernel.invokeFunction('convertToInteractive',\n",
              "                                                    [key], {});\n",
              "        if (!dataTable) return;\n",
              "\n",
              "        const docLinkHtml = 'Like what you see? Visit the ' +\n",
              "          '<a target=\"_blank\" href=https://colab.research.google.com/notebooks/data_table.ipynb>data table notebook</a>'\n",
              "          + ' to learn more about interactive tables.';\n",
              "        element.innerHTML = '';\n",
              "        dataTable['output_type'] = 'display_data';\n",
              "        await google.colab.output.renderOutput(dataTable, element);\n",
              "        const docLink = document.createElement('div');\n",
              "        docLink.innerHTML = docLinkHtml;\n",
              "        element.appendChild(docLink);\n",
              "      }\n",
              "    </script>\n",
              "  </div>\n",
              "\n",
              "\n",
              "    <div id=\"df-28d4e4b1-cba7-4050-9474-dc3729aa23d7\">\n",
              "      <button class=\"colab-df-quickchart\" onclick=\"quickchart('df-28d4e4b1-cba7-4050-9474-dc3729aa23d7')\"\n",
              "                title=\"Suggest charts\"\n",
              "                style=\"display:none;\">\n",
              "\n",
              "<svg xmlns=\"http://www.w3.org/2000/svg\" height=\"24px\"viewBox=\"0 0 24 24\"\n",
              "     width=\"24px\">\n",
              "    <g>\n",
              "        <path d=\"M19 3H5c-1.1 0-2 .9-2 2v14c0 1.1.9 2 2 2h14c1.1 0 2-.9 2-2V5c0-1.1-.9-2-2-2zM9 17H7v-7h2v7zm4 0h-2V7h2v10zm4 0h-2v-4h2v4z\"/>\n",
              "    </g>\n",
              "</svg>\n",
              "      </button>\n",
              "\n",
              "<style>\n",
              "  .colab-df-quickchart {\n",
              "      --bg-color: #E8F0FE;\n",
              "      --fill-color: #1967D2;\n",
              "      --hover-bg-color: #E2EBFA;\n",
              "      --hover-fill-color: #174EA6;\n",
              "      --disabled-fill-color: #AAA;\n",
              "      --disabled-bg-color: #DDD;\n",
              "  }\n",
              "\n",
              "  [theme=dark] .colab-df-quickchart {\n",
              "      --bg-color: #3B4455;\n",
              "      --fill-color: #D2E3FC;\n",
              "      --hover-bg-color: #434B5C;\n",
              "      --hover-fill-color: #FFFFFF;\n",
              "      --disabled-bg-color: #3B4455;\n",
              "      --disabled-fill-color: #666;\n",
              "  }\n",
              "\n",
              "  .colab-df-quickchart {\n",
              "    background-color: var(--bg-color);\n",
              "    border: none;\n",
              "    border-radius: 50%;\n",
              "    cursor: pointer;\n",
              "    display: none;\n",
              "    fill: var(--fill-color);\n",
              "    height: 32px;\n",
              "    padding: 0;\n",
              "    width: 32px;\n",
              "  }\n",
              "\n",
              "  .colab-df-quickchart:hover {\n",
              "    background-color: var(--hover-bg-color);\n",
              "    box-shadow: 0 1px 2px rgba(60, 64, 67, 0.3), 0 1px 3px 1px rgba(60, 64, 67, 0.15);\n",
              "    fill: var(--button-hover-fill-color);\n",
              "  }\n",
              "\n",
              "  .colab-df-quickchart-complete:disabled,\n",
              "  .colab-df-quickchart-complete:disabled:hover {\n",
              "    background-color: var(--disabled-bg-color);\n",
              "    fill: var(--disabled-fill-color);\n",
              "    box-shadow: none;\n",
              "  }\n",
              "\n",
              "  .colab-df-spinner {\n",
              "    border: 2px solid var(--fill-color);\n",
              "    border-color: transparent;\n",
              "    border-bottom-color: var(--fill-color);\n",
              "    animation:\n",
              "      spin 1s steps(1) infinite;\n",
              "  }\n",
              "\n",
              "  @keyframes spin {\n",
              "    0% {\n",
              "      border-color: transparent;\n",
              "      border-bottom-color: var(--fill-color);\n",
              "      border-left-color: var(--fill-color);\n",
              "    }\n",
              "    20% {\n",
              "      border-color: transparent;\n",
              "      border-left-color: var(--fill-color);\n",
              "      border-top-color: var(--fill-color);\n",
              "    }\n",
              "    30% {\n",
              "      border-color: transparent;\n",
              "      border-left-color: var(--fill-color);\n",
              "      border-top-color: var(--fill-color);\n",
              "      border-right-color: var(--fill-color);\n",
              "    }\n",
              "    40% {\n",
              "      border-color: transparent;\n",
              "      border-right-color: var(--fill-color);\n",
              "      border-top-color: var(--fill-color);\n",
              "    }\n",
              "    60% {\n",
              "      border-color: transparent;\n",
              "      border-right-color: var(--fill-color);\n",
              "    }\n",
              "    80% {\n",
              "      border-color: transparent;\n",
              "      border-right-color: var(--fill-color);\n",
              "      border-bottom-color: var(--fill-color);\n",
              "    }\n",
              "    90% {\n",
              "      border-color: transparent;\n",
              "      border-bottom-color: var(--fill-color);\n",
              "    }\n",
              "  }\n",
              "</style>\n",
              "\n",
              "      <script>\n",
              "        async function quickchart(key) {\n",
              "          const quickchartButtonEl =\n",
              "            document.querySelector('#' + key + ' button');\n",
              "          quickchartButtonEl.disabled = true;  // To prevent multiple clicks.\n",
              "          quickchartButtonEl.classList.add('colab-df-spinner');\n",
              "          try {\n",
              "            const charts = await google.colab.kernel.invokeFunction(\n",
              "                'suggestCharts', [key], {});\n",
              "          } catch (error) {\n",
              "            console.error('Error during call to suggestCharts:', error);\n",
              "          }\n",
              "          quickchartButtonEl.classList.remove('colab-df-spinner');\n",
              "          quickchartButtonEl.classList.add('colab-df-quickchart-complete');\n",
              "        }\n",
              "        (() => {\n",
              "          let quickchartButtonEl =\n",
              "            document.querySelector('#df-28d4e4b1-cba7-4050-9474-dc3729aa23d7 button');\n",
              "          quickchartButtonEl.style.display =\n",
              "            google.colab.kernel.accessAllowed ? 'block' : 'none';\n",
              "        })();\n",
              "      </script>\n",
              "    </div>\n",
              "\n",
              "    </div>\n",
              "  </div>\n"
            ],
            "application/vnd.google.colaboratory.intrinsic+json": {
              "type": "dataframe",
              "variable_name": "data",
              "summary": "{\n  \"name\": \"data\",\n  \"rows\": 50224,\n  \"fields\": [\n    {\n      \"column\": \"date\",\n      \"properties\": {\n        \"dtype\": \"object\",\n        \"num_unique_values\": 50224,\n        \"samples\": [\n          \"2011-07-20 19:00:00\",\n          \"2009-04-07 19:00:00\",\n          \"2010-10-21 20:00:00\"\n        ],\n        \"semantic_type\": \"\",\n        \"description\": \"\"\n      }\n    },\n    {\n      \"column\": \"p (mbar)\",\n      \"properties\": {\n        \"dtype\": \"number\",\n        \"std\": 8.219660414932955,\n        \"min\": 913.6,\n        \"max\": 1012.83,\n        \"num_unique_values\": 4564,\n        \"samples\": [\n          985.84,\n          974.51,\n          1007.94\n        ],\n        \"semantic_type\": \"\",\n        \"description\": \"\"\n      }\n    },\n    {\n      \"column\": \"T (degC)\",\n      \"properties\": {\n        \"dtype\": \"number\",\n        \"std\": 8.625312422230389,\n        \"min\": -22.76,\n        \"max\": 35.65,\n        \"num_unique_values\": 4507,\n        \"samples\": [\n          -7.34,\n          11.77,\n          17.69\n        ],\n        \"semantic_type\": \"\",\n        \"description\": \"\"\n      }\n    },\n    {\n      \"column\": \"Tpot (K)\",\n      \"properties\": {\n        \"dtype\": \"number\",\n        \"std\": 8.694861694947605,\n        \"min\": 250.85,\n        \"max\": 309.73,\n        \"num_unique_values\": 4592,\n        \"samples\": [\n          261.34,\n          297.3,\n          278.19\n        ],\n        \"semantic_type\": \"\",\n        \"description\": \"\"\n      }\n    },\n    {\n      \"column\": \"Tdew (degC)\",\n      \"properties\": {\n        \"dtype\": \"number\",\n        \"std\": 6.991031512553192,\n        \"min\": -24.8,\n        \"max\": 23.06,\n        \"num_unique_values\": 3683,\n        \"samples\": [\n          14.58,\n          -11.2,\n          -10.42\n        ],\n        \"semantic_type\": \"\",\n        \"description\": \"\"\n      }\n    },\n    {\n      \"column\": \"rh (%)\",\n      \"properties\": {\n        \"dtype\": \"number\",\n        \"std\": 16.525948593463415,\n        \"min\": 13.88,\n        \"max\": 100.0,\n        \"num_unique_values\": 4034,\n        \"samples\": [\n          69.45,\n          66.14,\n          49.91\n        ],\n        \"semantic_type\": \"\",\n        \"description\": \"\"\n      }\n    },\n    {\n      \"column\": \"VPmax (mbar)\",\n      \"properties\": {\n        \"dtype\": \"number\",\n        \"std\": 7.666813053916041,\n        \"min\": 0.97,\n        \"max\": 58.34,\n        \"num_unique_values\": 3179,\n        \"samples\": [\n          13.44,\n          22.56,\n          10.09\n        ],\n        \"semantic_type\": \"\",\n        \"description\": \"\"\n      }\n    },\n    {\n      \"column\": \"VPact (mbar)\",\n      \"properties\": {\n        \"dtype\": \"number\",\n        \"std\": 4.24064724355726,\n        \"min\": 0.81,\n        \"max\": 28.25,\n        \"num_unique_values\": 2188,\n        \"samples\": [\n          8.18,\n          15.55,\n          20.9\n        ],\n        \"semantic_type\": \"\",\n        \"description\": \"\"\n      }\n    },\n    {\n      \"column\": \"VPdef (mbar)\",\n      \"properties\": {\n        \"dtype\": \"number\",\n        \"std\": 4.793089501418028,\n        \"min\": 0.0,\n        \"max\": 41.78,\n        \"num_unique_values\": 2495,\n        \"samples\": [\n          18.54,\n          33.92,\n          7.25\n        ],\n        \"semantic_type\": \"\",\n        \"description\": \"\"\n      }\n    },\n    {\n      \"column\": \"sh (g/kg)\",\n      \"properties\": {\n        \"dtype\": \"number\",\n        \"std\": 2.691779161355142,\n        \"min\": 0.51,\n        \"max\": 18.07,\n        \"num_unique_values\": 1435,\n        \"samples\": [\n          10.9,\n          9.03,\n          5.57\n        ],\n        \"semantic_type\": \"\",\n        \"description\": \"\"\n      }\n    },\n    {\n      \"column\": \"H2OC (mmol/mol)\",\n      \"properties\": {\n        \"dtype\": \"number\",\n        \"std\": 4.29266030330158,\n        \"min\": 0.81,\n        \"max\": 28.74,\n        \"num_unique_values\": 2220,\n        \"samples\": [\n          16.22,\n          5.32,\n          2.3\n        ],\n        \"semantic_type\": \"\",\n        \"description\": \"\"\n      }\n    },\n    {\n      \"column\": \"rho (g/m**3)\",\n      \"properties\": {\n        \"dtype\": \"number\",\n        \"std\": 40.81325258371035,\n        \"min\": 1059.45,\n        \"max\": 1393.54,\n        \"num_unique_values\": 15964,\n        \"samples\": [\n          1371.38,\n          1237.2,\n          1298.74\n        ],\n        \"semantic_type\": \"\",\n        \"description\": \"\"\n      }\n    },\n    {\n      \"column\": \"wv (m/s)\",\n      \"properties\": {\n        \"dtype\": \"number\",\n        \"std\": 1.5277137378729526,\n        \"min\": 0.0,\n        \"max\": 14.01,\n        \"num_unique_values\": 961,\n        \"samples\": [\n          3.6,\n          6.2,\n          1.65\n        ],\n        \"semantic_type\": \"\",\n        \"description\": \"\"\n      }\n    },\n    {\n      \"column\": \"max. wv (m/s)\",\n      \"properties\": {\n        \"dtype\": \"number\",\n        \"std\": 2.3097994634165757,\n        \"min\": 0.0,\n        \"max\": 23.5,\n        \"num_unique_values\": 1057,\n        \"samples\": [\n          2.92,\n          12.41,\n          11.45\n        ],\n        \"semantic_type\": \"\",\n        \"description\": \"\"\n      }\n    },\n    {\n      \"column\": \"wd (deg)\",\n      \"properties\": {\n        \"dtype\": \"number\",\n        \"std\": 87.6595122439861,\n        \"min\": 0.0,\n        \"max\": 360.0,\n        \"num_unique_values\": 7987,\n        \"samples\": [\n          312.7,\n          38.53,\n          43.67\n        ],\n        \"semantic_type\": \"\",\n        \"description\": \"\"\n      }\n    }\n  ]\n}"
            }
          },
          "metadata": {},
          "execution_count": 34
        }
      ]
    },
    {
      "cell_type": "code",
      "source": [
        "data.shape"
      ],
      "metadata": {
        "colab": {
          "base_uri": "https://localhost:8080/"
        },
        "id": "HauMYeB9tdBJ",
        "outputId": "aa19299d-c975-4433-b36b-5bff8aa20476"
      },
      "execution_count": 35,
      "outputs": [
        {
          "output_type": "execute_result",
          "data": {
            "text/plain": [
              "(50224, 15)"
            ]
          },
          "metadata": {},
          "execution_count": 35
        }
      ]
    },
    {
      "cell_type": "markdown",
      "source": [
        "## 4. Partición del dataset"
      ],
      "metadata": {
        "id": "tVZ1sqT1tjXI"
      }
    },
    {
      "cell_type": "code",
      "source": [
        "train, val, test = train_val_test_split(data['T (degC)'])\n",
        "\n",
        "print(f'Tamaño set de entrenamiento: {train.shape}')\n",
        "print(f'Tamaño set de validación: {val.shape}')\n",
        "print(f'Tamaño set de prueba: {test.shape}')"
      ],
      "metadata": {
        "colab": {
          "base_uri": "https://localhost:8080/"
        },
        "id": "pzIBlAcju0OR",
        "outputId": "43e2c7f6-9d1c-44ea-e331-ec58873df041"
      },
      "execution_count": 36,
      "outputs": [
        {
          "output_type": "stream",
          "name": "stdout",
          "text": [
            "Tamaño set de entrenamiento: (40179,)\n",
            "Tamaño set de validación: (5022,)\n",
            "Tamaño set de prueba: (5023,)\n"
          ]
        }
      ]
    },
    {
      "cell_type": "code",
      "source": [
        "# Dibujemos los subsets\n",
        "fig, ax = plt.subplots(figsize = (16,5))\n",
        "ax.plot(train, label='Train')\n",
        "ax.plot(val, label='Val')\n",
        "ax.plot(test, label='Test')\n",
        "plt.legend();"
      ],
      "metadata": {
        "colab": {
          "base_uri": "https://localhost:8080/",
          "height": 445
        },
        "id": "iKcv8rxIvJg_",
        "outputId": "c484c607-7c62-45d4-8dfe-8a65dc960da1"
      },
      "execution_count": 37,
      "outputs": [
        {
          "output_type": "display_data",
          "data": {
            "text/plain": [
              "<Figure size 1600x500 with 1 Axes>"
            ],
            "image/png": "[encoded data removed]"
          },
          "metadata": {}
        }
      ]
    },
    {
      "cell_type": "markdown",
      "source": [
        "Observemos que por ser un modelo univariado sólo estamos preservando la variable temperatura (y que incluso hemos eliminado la información de fecha y hora de cada registro)."
      ],
      "metadata": {
        "id": "UC6p_Mm3w51b"
      }
    },
    {
      "cell_type": "markdown",
      "source": [
        "### 4.1 Generación del dataset supervisado (entrada y salida del modelo)\n",
        "\n",
        "Debemos ajustar nuestro set de datos de acuerdo a lo especificado en la [documentación de las Redes LSTM en TensorFlow/Keras](https://www.tensorflow.org/api_docs/python/tf/keras/layers/LSTM):\n",
        "\n",
        "![](https://drive.google.com/uc?export=view&id=14Sb7zIdjurirW-C6-DWDTvpxOVafTnTK)\n",
        "\n",
        "\n",
        "Donde:\n",
        "\n",
        "1. Entrada\n",
        "\n",
        "* **Batches**:Los lotes contienen el número total de datos de entrenamiento.\n",
        "* **Input_lenght**: es el número de horas consecutivas que vamos a representar en la entrada del modelo.\n",
        "* **Features**: son las características de entrada.\n",
        "\n",
        "2. Salida se conforma un vector formado por\n",
        "\n",
        "* **Batches**: Los lotes o bloques que se ha partido los datos de entrenamiento  entrenamientos formados por el número de predicciones\n",
        "* **Input_lenght**: El número de horas a predecir en un futuro.\n",
        "* **Features**: Características de salida."
      ],
      "metadata": {
        "id": "2COz3Vu6xEHF"
      }
    },
    {
      "cell_type": "markdown",
      "source": [
        "Así que en este caso cada dato de entrenamiento será:\n",
        "\n",
        "- Un arreglo de 24 (horas) x 1 (feature) correspondiente a la entrada\n",
        "- Un arreglo de 1 (hora) x 1 (feature) correspondiente a la hora 25 (a predecir):\n",
        "\n",
        "![](https://drive.google.com/uc?export=view&id=1uJeqYz9Hm2Q3LmEpXhZHogOI_rhj7YC2)\n",
        "\n",
        "Crearemos una función que podremos reutilizar más adelante para implementar modelos más complejos:"
      ],
      "metadata": {
        "id": "Z4OPdoSJxgK_"
      }
    },
    {
      "cell_type": "code",
      "source": [
        "# Crear los datasets de entrenamiento, prueba y validación y verificar sus tamaños\n",
        "INPUT_LENGTH = 24    # Posteriormente afinaremos este hiperparámetro\n",
        "OUTPUT_LENGTH = 1    # Modelo uni-step\n",
        "\n",
        "x_train, y_train = create_dataset_supervised(train.values, INPUT_LENGTH, OUTPUT_LENGTH)\n",
        "x_val, y_val = create_dataset_supervised(val.values, INPUT_LENGTH, OUTPUT_LENGTH)\n",
        "x_test, y_test = create_dataset_supervised(test.values, INPUT_LENGTH, OUTPUT_LENGTH)\n",
        "\n",
        "# Imprimir información en pantalla\n",
        "print('Tamaños entrada (BATCHES x INPUT_LENGTH x FEATURES) y de salida (BATCHES x OUTPUT_LENGTH x FEATURES)')\n",
        "print(f'Set de entrenamiento - x_train: {x_train.shape}, y_tr: {y_train.shape}')\n",
        "print(f'Set de validación - x_val: {x_val.shape}, y_vl: {y_val.shape}')\n",
        "print(f'Set de prueba - x_test: {x_test.shape}, y_ts: {y_test.shape}')"
      ],
      "metadata": {
        "colab": {
          "base_uri": "https://localhost:8080/"
        },
        "id": "GrTfuD06xDe9",
        "outputId": "7c53de59-4d6b-4845-fac1-0df9252910fb"
      },
      "execution_count": 38,
      "outputs": [
        {
          "output_type": "stream",
          "name": "stdout",
          "text": [
            "Tamaños entrada (BATCHES x INPUT_LENGTH x FEATURES) y de salida (BATCHES x OUTPUT_LENGTH x FEATURES)\n",
            "Set de entrenamiento - x_train: (40154, 24, 1), y_tr: (40154, 1, 1)\n",
            "Set de validación - x_val: (4997, 24, 1), y_vl: (4997, 1, 1)\n",
            "Set de prueba - x_test: (4998, 24, 1), y_ts: (4998, 1, 1)\n"
          ]
        }
      ]
    },
    {
      "cell_type": "markdown",
      "source": [
        "## 5. Escalado de los datos\n",
        "\n",
        "Es requerido para garantizar que todas las características se encuentran en el mismo rango de valores, lo que facilita el entrenamiento del modelo y las predicciones:"
      ],
      "metadata": {
        "id": "S7QDO3JAq4dY"
      }
    },
    {
      "cell_type": "code",
      "source": [
        "# Crear diccionario de entrada\n",
        "data_in = {\n",
        "    'x_train': x_train, 'y_train': y_train,\n",
        "    'x_val': x_val, 'y_val': y_val,\n",
        "    'x_test': x_test, 'y_test': y_test\n",
        "}"
      ],
      "metadata": {
        "id": "VvCT3NT5w5ig"
      },
      "execution_count": 39,
      "outputs": []
    },
    {
      "cell_type": "code",
      "source": [
        "# Y escalar\n",
        "data_scaled, scaler = escalar_dataset(data_in)"
      ],
      "metadata": {
        "id": "GdidvrTDw6dk"
      },
      "execution_count": 40,
      "outputs": []
    },
    {
      "cell_type": "code",
      "source": [
        "# Extraer subsets escalados\n",
        "x_train_scaled, y_train_scaled = data_scaled['x_train_scaled'], data_scaled['y_train_scaled']\n",
        "x_val_scaled, y_val_scaled = data_scaled['x_val_scaled'], data_scaled['y_val_scaled']\n",
        "x_test_scaled, y_test_scaled = data_scaled['x_test_scaled'], data_scaled['y_test_scaled']"
      ],
      "metadata": {
        "id": "SVGCU3SUxG-Y"
      },
      "execution_count": 41,
      "outputs": []
    },
    {
      "cell_type": "code",
      "source": [
        "# Verificación\n",
        "print(f'Min x_train/x_val/x_test sin escalamiento: {x_train.min()}/{x_val.min()}/{x_test.min()}')\n",
        "print(f'Min x_train/x_val/x_test con escalamiento: {x_train_scaled.min()}/{x_val_scaled.min()}/{x_test_scaled.min()}')\n",
        "\n",
        "print(f'\\nMin y_train/y_val/y_test sin escalamiento: {y_train.min()}/{y_val.min()}/{y_test.min()}')\n",
        "print(f'Min y_train/y_val/y_test con escalamiento: {y_train_scaled.min()}/{y_val_scaled.min()}/{y_test_scaled.min()}')\n",
        "\n",
        "print(f'\\nMax x_train/x_val/x_test sin escalamiento: {x_train.max()}/{x_val.max()}/{x_test.max()}')\n",
        "print(f'Max x_train/x_val/x_test con escalamiento: {x_train_scaled.max()}/{x_val_scaled.max()}/{x_test_scaled.max()}')\n",
        "\n",
        "print(f'\\nMax y_train/y_val/y_test sin escalamiento: {y_train.max()}/{y_val.max()}/{y_test.max()}')\n",
        "print(f'Max y_train/y_val/y_test con escalamiento: {y_train_scaled.max()}/{y_val_scaled.max()}/{y_test_scaled.max()}')\n"
      ],
      "metadata": {
        "colab": {
          "base_uri": "https://localhost:8080/"
        },
        "id": "FqeFD1kAxNMp",
        "outputId": "9b1408e4-f478-4f35-98af-ee0b2809f6b2"
      },
      "execution_count": 42,
      "outputs": [
        {
          "output_type": "stream",
          "name": "stdout",
          "text": [
            "Min x_train/x_val/x_test sin escalamiento: -22.76/-9.92/-2.64\n",
            "Min x_train/x_val/x_test con escalamiento: -1.0/-0.5603492552645094/-0.31107687039890414\n",
            "\n",
            "Min y_train/y_val/y_test sin escalamiento: -22.76/-9.92/-2.64\n",
            "Min y_train/y_val/y_test con escalamiento: -1.0/-0.5603492552645094/-0.31107687039890414\n",
            "\n",
            "Max x_train/x_val/x_test sin escalamiento: 35.65/34.34/33.68\n",
            "Max x_train/x_val/x_test con escalamiento: 1.0000000000000002/0.9551446670090742/0.932545796952577\n",
            "\n",
            "Max y_train/y_val/y_test sin escalamiento: 35.65/31.33/33.68\n",
            "Max y_train/y_val/y_test con escalamiento: 1.0000000000000002/0.8520801232665642/0.932545796952577\n"
          ]
        }
      ]
    },
    {
      "cell_type": "markdown",
      "source": [
        "## 6. Modelado\n",
        "\n",
        "- Entradas: arreglos *x* (batches x input-length  x features = batches x 24 x 1)\n",
        "- Salidas: arreglos *y* (batches x output-length x features = batches x 1 x 1)\n",
        "\n",
        "Usaremos la raíz cuadrada del error cuadrático medio (o RMSE por sus siglas en Inglés: *root mean square error*) como pérdida para entrenar el modelo:\n",
        "\n",
        "$RMSE = \\sqrt{\\frac{\\sum_i (y_i-\\hat{y_i})^2}{N}}$\n",
        "\n",
        "donde:\n",
        "- $y$: temperatura real\n",
        "- $\\hat{y}$: temperatura predicha\n",
        "- $N$: cantidad de predicciones"
      ],
      "metadata": {
        "id": "NmzU4NiL11ST"
      }
    },
    {
      "cell_type": "code",
      "source": [
        "# Ajustar parámetros para reproducibilidad del entrenamiento\n",
        "tf.random.set_seed(123)\n",
        "tf.config.experimental.enable_op_determinism()\n",
        "\n",
        "# El modelo\n",
        "N_UNITS = 128 # Tamaño del estado oculto (h) y de la celda de memoria (c)\n",
        "INPUT_SHAPE = (x_train_scaled.shape[1], x_train_scaled.shape[2]) # 24 (horas) x 1 (feature)\n"
      ],
      "metadata": {
        "id": "qVMKpy5n2J-O"
      },
      "execution_count": 43,
      "outputs": []
    },
    {
      "cell_type": "code",
      "source": [
        "modelo = keras.Sequential()\n",
        "modelo.add(layers.Input(shape=INPUT_SHAPE))\n",
        "modelo.add(layers.LSTM(N_UNITS))\n",
        "modelo.add(layers.Dense(OUTPUT_LENGTH, activation='linear')) # activation = 'linear' pues queremos pronosticar (regresión) escala -1 a 1."
      ],
      "metadata": {
        "id": "4-DwPLnM6jHN"
      },
      "execution_count": 48,
      "outputs": []
    },
    {
      "cell_type": "code",
      "source": [
        "# Pérdida: se usará el RMSE (root mean squared error) para el entrenamiento\n",
        "# pues permite tener errores en las mismas unidades de la temperatura\n",
        "def root_mean_squared_error(y_true, y_pred):\n",
        "    rmse = tf.math.sqrt(tf.math.reduce_mean(tf.square(y_pred - y_true)))\n",
        "    return rmse"
      ],
      "metadata": {
        "id": "qZTmryyN7CRD"
      },
      "execution_count": 49,
      "outputs": []
    },
    {
      "cell_type": "code",
      "source": [
        "# Obtimizador para minimizar la perdida\n",
        "optimizador = tf.keras.optimizers.RMSprop(learning_rate = 5e-5)\n",
        "modelo.compile(\n",
        "    optimizer = optimizador,\n",
        "    loss = root_mean_squared_error,\n",
        ")\n",
        "\n",
        "# Entrenamiento (aproximadamente 1 min usando GPU)\n",
        "EPOCHS = 80 # Hiperparámetro\n",
        "BATCH_SIZE = 256 # Hiperparámetro\n",
        "historia = modelo.fit(\n",
        "    x = x_train_scaled,\n",
        "    y = y_train_scaled,\n",
        "    batch_size = BATCH_SIZE,\n",
        "    epochs = EPOCHS,\n",
        "    validation_data = (x_val_scaled, y_val_scaled),\n",
        "    verbose=2 # Imprime en pantalla la evolución del entrenamiento\n",
        ")"
      ],
      "metadata": {
        "colab": {
          "base_uri": "https://localhost:8080/"
        },
        "id": "JMHUpNe57HN8",
        "outputId": "465faacd-6c62-4ae9-f43f-b89cc33cbd49"
      },
      "execution_count": 50,
      "outputs": [
        {
          "output_type": "stream",
          "name": "stdout",
          "text": [
            "Epoch 1/80\n",
            "157/157 - 2s - 14ms/step - loss: 0.1718 - val_loss: 0.0932\n",
            "Epoch 2/80\n",
            "157/157 - 1s - 5ms/step - loss: 0.1097 - val_loss: 0.0839\n",
            "Epoch 3/80\n",
            "157/157 - 1s - 5ms/step - loss: 0.0967 - val_loss: 0.0744\n",
            "Epoch 4/80\n",
            "157/157 - 1s - 5ms/step - loss: 0.0814 - val_loss: 0.0630\n",
            "Epoch 5/80\n",
            "157/157 - 1s - 5ms/step - loss: 0.0649 - val_loss: 0.0542\n",
            "Epoch 6/80\n",
            "157/157 - 1s - 5ms/step - loss: 0.0575 - val_loss: 0.0513\n",
            "Epoch 7/80\n",
            "157/157 - 1s - 5ms/step - loss: 0.0546 - val_loss: 0.0490\n",
            "Epoch 8/80\n",
            "157/157 - 1s - 5ms/step - loss: 0.0520 - val_loss: 0.0469\n",
            "Epoch 9/80\n",
            "157/157 - 1s - 5ms/step - loss: 0.0498 - val_loss: 0.0450\n",
            "Epoch 10/80\n",
            "157/157 - 1s - 5ms/step - loss: 0.0477 - val_loss: 0.0433\n",
            "Epoch 11/80\n",
            "157/157 - 1s - 5ms/step - loss: 0.0460 - val_loss: 0.0419\n",
            "Epoch 12/80\n",
            "157/157 - 1s - 5ms/step - loss: 0.0445 - val_loss: 0.0406\n",
            "Epoch 13/80\n",
            "157/157 - 1s - 5ms/step - loss: 0.0431 - val_loss: 0.0394\n",
            "Epoch 14/80\n",
            "157/157 - 1s - 5ms/step - loss: 0.0419 - val_loss: 0.0383\n",
            "Epoch 15/80\n",
            "157/157 - 1s - 7ms/step - loss: 0.0409 - val_loss: 0.0373\n",
            "Epoch 16/80\n",
            "157/157 - 1s - 7ms/step - loss: 0.0399 - val_loss: 0.0365\n",
            "Epoch 17/80\n",
            "157/157 - 1s - 7ms/step - loss: 0.0390 - val_loss: 0.0356\n",
            "Epoch 18/80\n",
            "157/157 - 1s - 5ms/step - loss: 0.0382 - val_loss: 0.0349\n",
            "Epoch 19/80\n",
            "157/157 - 1s - 5ms/step - loss: 0.0375 - val_loss: 0.0342\n",
            "Epoch 20/80\n",
            "157/157 - 1s - 5ms/step - loss: 0.0368 - val_loss: 0.0335\n",
            "Epoch 21/80\n",
            "157/157 - 1s - 5ms/step - loss: 0.0362 - val_loss: 0.0329\n",
            "Epoch 22/80\n",
            "157/157 - 1s - 6ms/step - loss: 0.0356 - val_loss: 0.0323\n",
            "Epoch 23/80\n",
            "157/157 - 1s - 5ms/step - loss: 0.0350 - val_loss: 0.0318\n",
            "Epoch 24/80\n",
            "157/157 - 1s - 6ms/step - loss: 0.0345 - val_loss: 0.0313\n",
            "Epoch 25/80\n",
            "157/157 - 1s - 7ms/step - loss: 0.0340 - val_loss: 0.0308\n",
            "Epoch 26/80\n",
            "157/157 - 1s - 6ms/step - loss: 0.0336 - val_loss: 0.0304\n",
            "Epoch 27/80\n",
            "157/157 - 1s - 5ms/step - loss: 0.0331 - val_loss: 0.0300\n",
            "Epoch 28/80\n",
            "157/157 - 2s - 10ms/step - loss: 0.0327 - val_loss: 0.0296\n",
            "Epoch 29/80\n",
            "157/157 - 1s - 8ms/step - loss: 0.0324 - val_loss: 0.0293\n",
            "Epoch 30/80\n",
            "157/157 - 1s - 8ms/step - loss: 0.0320 - val_loss: 0.0290\n",
            "Epoch 31/80\n",
            "157/157 - 1s - 7ms/step - loss: 0.0317 - val_loss: 0.0287\n",
            "Epoch 32/80\n",
            "157/157 - 1s - 5ms/step - loss: 0.0314 - val_loss: 0.0284\n",
            "Epoch 33/80\n",
            "157/157 - 1s - 5ms/step - loss: 0.0311 - val_loss: 0.0281\n",
            "Epoch 34/80\n",
            "157/157 - 1s - 5ms/step - loss: 0.0309 - val_loss: 0.0279\n",
            "Epoch 35/80\n",
            "157/157 - 1s - 5ms/step - loss: 0.0306 - val_loss: 0.0276\n",
            "Epoch 36/80\n",
            "157/157 - 1s - 5ms/step - loss: 0.0304 - val_loss: 0.0274\n",
            "Epoch 37/80\n",
            "157/157 - 1s - 5ms/step - loss: 0.0302 - val_loss: 0.0272\n",
            "Epoch 38/80\n",
            "157/157 - 1s - 5ms/step - loss: 0.0300 - val_loss: 0.0270\n",
            "Epoch 39/80\n",
            "157/157 - 1s - 5ms/step - loss: 0.0298 - val_loss: 0.0268\n",
            "Epoch 40/80\n",
            "157/157 - 1s - 5ms/step - loss: 0.0296 - val_loss: 0.0266\n",
            "Epoch 41/80\n",
            "157/157 - 1s - 6ms/step - loss: 0.0294 - val_loss: 0.0265\n",
            "Epoch 42/80\n",
            "157/157 - 1s - 7ms/step - loss: 0.0292 - val_loss: 0.0263\n",
            "Epoch 43/80\n",
            "157/157 - 1s - 6ms/step - loss: 0.0291 - val_loss: 0.0262\n",
            "Epoch 44/80\n",
            "157/157 - 1s - 5ms/step - loss: 0.0289 - val_loss: 0.0260\n",
            "Epoch 45/80\n",
            "157/157 - 1s - 5ms/step - loss: 0.0288 - val_loss: 0.0259\n",
            "Epoch 46/80\n",
            "157/157 - 1s - 5ms/step - loss: 0.0287 - val_loss: 0.0258\n",
            "Epoch 47/80\n",
            "157/157 - 1s - 5ms/step - loss: 0.0286 - val_loss: 0.0257\n",
            "Epoch 48/80\n",
            "157/157 - 1s - 5ms/step - loss: 0.0284 - val_loss: 0.0256\n",
            "Epoch 49/80\n",
            "157/157 - 1s - 8ms/step - loss: 0.0283 - val_loss: 0.0255\n",
            "Epoch 50/80\n",
            "157/157 - 1s - 5ms/step - loss: 0.0282 - val_loss: 0.0254\n",
            "Epoch 51/80\n",
            "157/157 - 1s - 5ms/step - loss: 0.0281 - val_loss: 0.0253\n",
            "Epoch 52/80\n",
            "157/157 - 1s - 5ms/step - loss: 0.0280 - val_loss: 0.0252\n",
            "Epoch 53/80\n",
            "157/157 - 1s - 5ms/step - loss: 0.0279 - val_loss: 0.0251\n",
            "Epoch 54/80\n",
            "157/157 - 1s - 5ms/step - loss: 0.0278 - val_loss: 0.0250\n",
            "Epoch 55/80\n",
            "157/157 - 1s - 5ms/step - loss: 0.0277 - val_loss: 0.0249\n",
            "Epoch 56/80\n",
            "157/157 - 1s - 6ms/step - loss: 0.0277 - val_loss: 0.0249\n",
            "Epoch 57/80\n",
            "157/157 - 1s - 7ms/step - loss: 0.0276 - val_loss: 0.0248\n",
            "Epoch 58/80\n",
            "157/157 - 1s - 5ms/step - loss: 0.0275 - val_loss: 0.0247\n",
            "Epoch 59/80\n",
            "157/157 - 1s - 5ms/step - loss: 0.0274 - val_loss: 0.0247\n",
            "Epoch 60/80\n",
            "157/157 - 1s - 5ms/step - loss: 0.0274 - val_loss: 0.0246\n",
            "Epoch 61/80\n",
            "157/157 - 1s - 5ms/step - loss: 0.0273 - val_loss: 0.0246\n",
            "Epoch 62/80\n",
            "157/157 - 1s - 5ms/step - loss: 0.0273 - val_loss: 0.0245\n",
            "Epoch 63/80\n",
            "157/157 - 1s - 5ms/step - loss: 0.0272 - val_loss: 0.0245\n",
            "Epoch 64/80\n",
            "157/157 - 1s - 5ms/step - loss: 0.0271 - val_loss: 0.0244\n",
            "Epoch 65/80\n",
            "157/157 - 1s - 5ms/step - loss: 0.0271 - val_loss: 0.0244\n",
            "Epoch 66/80\n",
            "157/157 - 2s - 11ms/step - loss: 0.0270 - val_loss: 0.0243\n",
            "Epoch 67/80\n",
            "157/157 - 1s - 9ms/step - loss: 0.0270 - val_loss: 0.0243\n",
            "Epoch 68/80\n",
            "157/157 - 1s - 7ms/step - loss: 0.0269 - val_loss: 0.0243\n",
            "Epoch 69/80\n",
            "157/157 - 1s - 7ms/step - loss: 0.0269 - val_loss: 0.0242\n",
            "Epoch 70/80\n",
            "157/157 - 1s - 6ms/step - loss: 0.0269 - val_loss: 0.0242\n",
            "Epoch 71/80\n",
            "157/157 - 1s - 5ms/step - loss: 0.0268 - val_loss: 0.0242\n",
            "Epoch 72/80\n",
            "157/157 - 1s - 6ms/step - loss: 0.0268 - val_loss: 0.0241\n",
            "Epoch 73/80\n",
            "157/157 - 1s - 5ms/step - loss: 0.0267 - val_loss: 0.0241\n",
            "Epoch 74/80\n",
            "157/157 - 1s - 5ms/step - loss: 0.0267 - val_loss: 0.0241\n",
            "Epoch 75/80\n",
            "157/157 - 1s - 5ms/step - loss: 0.0267 - val_loss: 0.0241\n",
            "Epoch 76/80\n",
            "157/157 - 1s - 5ms/step - loss: 0.0266 - val_loss: 0.0240\n",
            "Epoch 77/80\n",
            "157/157 - 1s - 5ms/step - loss: 0.0266 - val_loss: 0.0240\n",
            "Epoch 78/80\n",
            "157/157 - 1s - 5ms/step - loss: 0.0266 - val_loss: 0.0240\n",
            "Epoch 79/80\n",
            "157/157 - 1s - 5ms/step - loss: 0.0265 - val_loss: 0.0240\n",
            "Epoch 80/80\n",
            "157/157 - 1s - 5ms/step - loss: 0.0265 - val_loss: 0.0240\n"
          ]
        }
      ]
    },
    {
      "cell_type": "markdown",
      "source": [
        "Podemos observar que en la época 80 el error loss:0.0265 es de un 2,6 %. Esto es un muy buen resultado de error"
      ],
      "metadata": {
        "id": "22K82Znh-OhZ"
      }
    },
    {
      "cell_type": "code",
      "source": [
        "# Graficar curvas de entrenamiento y validación\n",
        " # para verificar que no existe overfitting\n",
        "plt.plot(historia.history['loss'], label='RMSE train')\n",
        "plt.plot(historia.history['val_loss'], label='RMSE val')\n",
        "plt.xlabel('Iteración')\n",
        "plt.ylabel('RMSE')\n",
        "plt.legend();"
      ],
      "metadata": {
        "colab": {
          "base_uri": "https://localhost:8080/",
          "height": 449
        },
        "id": "4OFMfH9G72zP",
        "outputId": "d7eb29ce-c01a-4363-cad5-009e974c55ce"
      },
      "execution_count": 51,
      "outputs": [
        {
          "output_type": "display_data",
          "data": {
            "text/plain": [
              "<Figure size 640x480 with 1 Axes>"
            ],
            "image/png": "[encoded data removed]"
          },
          "metadata": {}
        }
      ]
    },
    {
      "cell_type": "markdown",
      "source": [
        "Observamos que a medida que avanzan las iteraciones la perdida se va reduciendo y las dos curvas estan muy cercanas entre ellas. Esto nos indica que no hay overfitting con el modelo y ha sido entrenado de forma correcta.\n",
        "\n",
        "*Observaciones y sugerencias de acciones para mejorar el entrenamiento:**\n",
        "\n",
        "- El modelo no tiene *overfitting*\n",
        "- Se sugiere afinar el modelo modificando varios de sus hiperparámetros y usando técnicas como, por ejemplo, *random grid search*. Los hiperparámetros a afinar pueden ser:\n",
        "  - *INPUT_LENGTH* (esto implica modificar la fase de pre-procesamiento)\n",
        "  - Número de unidades de la Red LSTM (estmos usando 128 unidades)\n",
        "  - Función de pérdida (podemos usar el error quadratico medio o el absoluto)\n",
        "  - Tasa de aprendizaje del optimizador\n",
        "  - Epochs\n",
        "  - Batch size podemos modificar el número de lotes (ahora tenemos 256)"
      ],
      "metadata": {
        "id": "5rIwFqbo-qfP"
      }
    },
    {
      "cell_type": "markdown",
      "source": [
        "## 7. Desempeño del modelo\n",
        "\n",
        "Suponiendo que el modelo ya ha sido afinado y entrenado, verificaremos su desempeño para el set de prueba y lo compararemos con el desempeño obtenido con los sets de entrenamiento y validación.\n",
        "\n",
        "Este desempeño es simplemente el RMSE obtenido con cada subset:"
      ],
      "metadata": {
        "id": "BvdtgJpRAFs0"
      }
    },
    {
      "cell_type": "code",
      "source": [
        "# Cálculo de rmses para train, val y test\n",
        "rmse_train = modelo.evaluate(x = x_train_scaled, y = y_train_scaled, verbose=0)\n",
        "rmse_val = modelo.evaluate(x = x_val_scaled, y = y_val_scaled, verbose=0)\n",
        "rmse_test = modelo.evaluate(x = x_test_scaled, y = y_test_scaled, verbose=0)\n",
        "\n",
        "# Imprimir resultados en pantalla\n",
        "print('Comparativo desempeños:')\n",
        "print(f'  RMSE train:\\t {rmse_train:.3f}')\n",
        "print(f'  RMSE val:\\t {rmse_val:.3f}')\n",
        "print(f'  RMSE test:\\t {rmse_test:.3f}')"
      ],
      "metadata": {
        "colab": {
          "base_uri": "https://localhost:8080/"
        },
        "id": "YO2c2soqATQO",
        "outputId": "2888ea9e-193a-4e9c-dfce-8db10ed76802"
      },
      "execution_count": 52,
      "outputs": [
        {
          "output_type": "stream",
          "name": "stdout",
          "text": [
            "Comparativo desempeños:\n",
            "  RMSE train:\t 0.025\n",
            "  RMSE val:\t 0.023\n",
            "  RMSE test:\t 0.028\n"
          ]
        }
      ]
    },
    {
      "cell_type": "markdown",
      "source": [
        "Los desempeños son comparables, ya que son muy parecidos entro ellos, lo cual quiere decir que el modelo generaliza bastante bien."
      ],
      "metadata": {
        "id": "ZEcuzRQ9AzY2"
      }
    },
    {
      "cell_type": "markdown",
      "source": [
        "## 8. Predicciones con el modelo entrenado\n",
        "\n",
        "El objetivo de este apartado es generar predicciones con el conjunto de datos entrenados. Suponiendo que el modelo ya ha sido afinado, podemos ponerlo a prueba con el set *test*.\n",
        "\n",
        "Creemos primero una función para generar las predicciones tomando todo el conjunto de datos de prueba y le presentamos los 4998 de datos de x_test y le pedimos al modelo que genere 4998 predicciones (datos de temperatura predichos) y seguidamente, las compara una a una con los 4998 datos de y_test (datos de temperatura reales)."
      ],
      "metadata": {
        "id": "_gnu7JToB7e8"
      }
    },
    {
      "cell_type": "code",
      "source": [
        "# Calcular predicciones sobre el set de prueba\n",
        "y_test_pred = prediction(x_test_scaled, modelo, scaler)"
      ],
      "metadata": {
        "id": "T5V91UCzGUgt"
      },
      "execution_count": 53,
      "outputs": []
    },
    {
      "cell_type": "markdown",
      "source": [
        "Analicemos este desempeño gráficamente mostrando las temperaturas originales y las predichas por el modelo para cada uno de los 4.998 datos en el set de prueba:"
      ],
      "metadata": {
        "id": "ycohDBbIGiSM"
      }
    },
    {
      "cell_type": "code",
      "source": [
        "N = len(y_test_pred)    # Número de predicciones\n",
        "# desde 1 al tamaño del vector\n",
        "ndato = np.linspace(1,N,N)\n",
        "\n",
        "# Cálculo de errores simples\n",
        "errores = y_test.flatten() - y_test_pred\n",
        "plt.plot(errores);"
      ],
      "metadata": {
        "colab": {
          "base_uri": "https://localhost:8080/",
          "height": 430
        },
        "id": "CzMzCj7-GlOx",
        "outputId": "7ecd0d45-b482-40a1-fc72-47f5fc2e78e2"
      },
      "execution_count": 54,
      "outputs": [
        {
          "output_type": "display_data",
          "data": {
            "text/plain": [
              "<Figure size 640x480 with 1 Axes>"
            ],
            "image/png": "[encoded data removed]"
          },
          "metadata": {}
        }
      ]
    },
    {
      "cell_type": "markdown",
      "source": [
        "Los errores estan centrados alrededor de 0, pero visualizamos algunos outliers (errores relativamente grandes) llegando incluso a -8 grados y del lado positivo llegan casi a los 4 grados, entonces esto nos indican que son errores en las predicciones. Representan una diferencia de más menos 2 grados de diferencia para dicha temperatura."
      ],
      "metadata": {
        "id": "VmGBISJ4HM4p"
      }
    }
  ]
}