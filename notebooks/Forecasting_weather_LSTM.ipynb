{
  "nbformat": 4,
  "nbformat_minor": 0,
  "metadata": {
    "colab": {
      "provenance": [],
      "authorship_tag": "ABX9TyNzS8yUD+IQd/7PtQk75kaQ",
      "include_colab_link": true
    },
    "kernelspec": {
      "name": "python3",
      "display_name": "Python 3"
    },
    "language_info": {
      "name": "python"
    }
  },
  "cells": [
    {
      "cell_type": "markdown",
      "metadata": {
        "id": "view-in-github",
        "colab_type": "text"
      },
      "source": [
        "<a href=\"https://colab.research.google.com/github/xbadiam/Forecasting_weather_with_LSTM/blob/main/notebooks/Forecasting_weather_LSTM.ipynb\" target=\"_parent\"><img src=\"https://colab.research.google.com/assets/colab-badge.svg\" alt=\"Open In Colab\"/></a>"
      ]
    },
    {
      "cell_type": "markdown",
      "source": [
        "1. Context\n",
        "\n",
        "\n",
        "\n",
        "\n",
        "\n",
        "### 1.1. El set de datos\n",
        "\n",
        "\n",
        "\n",
        "\n",
        "### 1.2. Problema a resolver\n",
        "\n",
        "Desarrollo de modelos predictivos basados en redes neuronales LSTM usando los enfoques:\n",
        "\n",
        "1. Univariado + single-step\n",
        "2. Univariado + multi-step\n",
        "3. Multivariado + single-step\n",
        "4. Multivariado + multi-step\n",
        "\n",
        "\n",
        "### 1.3. Descipción de los datos\n",
        "\n",
        "- *p (mbar)*: presión del aire en milibars\n",
        "- *T (degC)*: temperatura del aire en °C\n",
        "- *Tpot (K)*: temperatura potencial\n",
        "- *Tdew (degC)*: temperatura de punto de rocío (a la cual el vapor de agua se condensa)\n",
        "- *rh (%)*: humedad relativa\n",
        "- *VPmax (mbar)*: presión de vapor de agua de saturación\n",
        "- *VPact (mbar)*: presión de vapor de agua real\n",
        "- *VPdef (mbar)*: déficit de presión de vapor de agua\n",
        "- *sh (g/kg)*: humedad específica\n",
        "- *H2OC (mmol/mol)*: nivel de concentración del vapor de agua\n",
        "- *rho (g/m**3)*: densidad del aire\n",
        "- *wv (m/s)*: velocidad del viento\n",
        "- *max. wv (m/s)*: velocidad del viento máxima\n",
        "- *wd (deg)*: dirección del viento\n",
        "\n",
        "\n",
        "Disponemos dos tipos de variables al momento de implementar los modelos LSTM:\n",
        "\n",
        "- Variable a predecir: la variable a pronosticar (salida del modelo LSTM). En este caso es *T (degC)*\n",
        "- Variables predictoras (o covariables): las variables de entrada al modelo LSTM a partir de las cuales se realizará la predicción.\n",
        "  - Puede incluir la variable a predecir (*T (degC)*)\n",
        "  - Puede incluir la variable tiempo (columna *datetime*)"
      ],
      "metadata": {
        "id": "GuuOEaOUuwmT"
      }
    },
    {
      "cell_type": "markdown",
      "source": [
        "## 2. Imports"
      ],
      "metadata": {
        "id": "RPjavoIfvvhe"
      }
    },
    {
      "cell_type": "code",
      "source": [
        "!rm -rf /content/Forecasting_weather_with_LSTM\n",
        "\n",
        "! git clone https://github.com/xbadiam/Forecasting_weather_with_LSTM.git"
      ],
      "metadata": {
        "colab": {
          "base_uri": "https://localhost:8080/"
        },
        "id": "0euiIW1dv_KK",
        "outputId": "f648c4ae-7daa-4377-c652-c0411b257140"
      },
      "execution_count": 3,
      "outputs": [
        {
          "output_type": "stream",
          "name": "stdout",
          "text": [
            "Cloning into 'Forecasting_weather_with_LSTM'...\n",
            "remote: Enumerating objects: 7, done.\u001b[K\n",
            "remote: Counting objects: 100% (7/7), done.\u001b[K\n",
            "remote: Compressing objects: 100% (5/5), done.\u001b[K\n",
            "remote: Total 7 (delta 0), reused 0 (delta 0), pack-reused 0 (from 0)\u001b[K\n",
            "Receiving objects: 100% (7/7), 447.45 KiB | 2.89 MiB/s, done.\n"
          ]
        }
      ]
    },
    {
      "cell_type": "code",
      "execution_count": 4,
      "metadata": {
        "id": "B6h7K6dgujAm"
      },
      "outputs": [],
      "source": [
        "from google.colab import drive\n",
        "import pandas as pd\n",
        "import matplotlib.pyplot as plt\n"
      ]
    }
  ]
}